{
 "cells": [
  {
   "cell_type": "markdown",
   "id": "980428ce-c361-4875-9a42-aad0b76e82d8",
   "metadata": {},
   "source": [
    "# Data Science Tools and Ecosystem"
   ]
  },
  {
   "cell_type": "markdown",
   "id": "4490fcca-dea9-4774-b4f9-cebb4535f616",
   "metadata": {},
   "source": [
    "### In this notebook, Data Science Tools and Ecosystem are summarized. "
   ]
  },
  {
   "cell_type": "markdown",
   "id": "725c7d26-2e35-4364-b987-be5f6f325cfb",
   "metadata": {},
   "source": [
    "**Objectives:**\n",
    "- Create a Jupyter Notebook with markdown and code cells. \n",
    "- List examples of languages, libraries and tools used in Data Science\n",
    "- Share your Jupyter Notebook publicly on GitHub"
   ]
  },
  {
   "cell_type": "markdown",
   "id": "9ea26210-8664-4296-8f05-7a65179e5a42",
   "metadata": {},
   "source": [
    "### Some of the popular languages that Data Scientists use are: \n",
    "1. Python \n",
    "2. R \n",
    "3. SQL "
   ]
  },
  {
   "cell_type": "markdown",
   "id": "bd6d0603-3d7a-4140-bde8-2d1d7726ece6",
   "metadata": {},
   "source": [
    "### Some of the commonly used libraries used by Data Scientist include: \n",
    "1. Pandas \n",
    "2. NumPy \n",
    "3. GGplot "
   ]
  },
  {
   "cell_type": "markdown",
   "id": "09e0a427-c142-4a33-9a77-b4a2a2306e91",
   "metadata": {},
   "source": [
    "| Data Science Tools|\n",
    "| ------------------|\n",
    "|Jupyter Notebook |\n",
    "|Visual Studio Code |\n",
    "|R studio |"
   ]
  },
  {
   "cell_type": "markdown",
   "id": "a99e5edf-ec23-4ef1-bc8f-541b2d273e03",
   "metadata": {},
   "source": [
    "### Below are a few examples of evaluating arithmetic expression in Python. "
   ]
  },
  {
   "cell_type": "code",
   "execution_count": 2,
   "id": "489fee9c-24be-4ac1-b517-e1927c1d22ea",
   "metadata": {
    "tags": []
   },
   "outputs": [
    {
     "data": {
      "text/plain": [
       "17"
      ]
     },
     "execution_count": 2,
     "metadata": {},
     "output_type": "execute_result"
    }
   ],
   "source": [
    "# This a simple arithmetic expression to mutiply then add integers.\n",
    "(3*4)+5"
   ]
  },
  {
   "cell_type": "code",
   "execution_count": 3,
   "id": "bef62e78-f215-4797-ac8d-36793d35091d",
   "metadata": {
    "tags": []
   },
   "outputs": [
    {
     "data": {
      "text/plain": [
       "3.3333333333333335"
      ]
     },
     "execution_count": 3,
     "metadata": {},
     "output_type": "execute_result"
    }
   ],
   "source": [
    "# This will convert 200 minutes to hours by diving by 60.\n",
    "200/60"
   ]
  },
  {
   "cell_type": "markdown",
   "id": "063e417b-0230-4ace-bdc6-b28744df84e2",
   "metadata": {},
   "source": [
    "## Author\n",
    "Jennifer Rodriguez "
   ]
  }
 ],
 "metadata": {
  "kernelspec": {
   "display_name": "Python",
   "language": "python",
   "name": "conda-env-python-py"
  },
  "language_info": {
   "codemirror_mode": {
    "name": "ipython",
    "version": 3
   },
   "file_extension": ".py",
   "mimetype": "text/x-python",
   "name": "python",
   "nbconvert_exporter": "python",
   "pygments_lexer": "ipython3",
   "version": "3.7.12"
  }
 },
 "nbformat": 4,
 "nbformat_minor": 5
}
